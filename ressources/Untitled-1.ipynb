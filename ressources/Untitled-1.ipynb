{
 "cells": [
  {
   "cell_type": "code",
   "execution_count": null,
   "id": "e0116b4d",
   "metadata": {},
   "outputs": [
    {
     "name": "stdout",
     "output_type": "stream",
     "text": [
      "2      False\n",
      "17     False\n",
      "18     False\n",
      "20     False\n",
      "22     False\n",
      "       ...  \n",
      "555    False\n",
      "556    False\n",
      "601    False\n",
      "622    False\n",
      "624    False\n",
      "Name: Target, Length: 74, dtype: bool\n",
      "<class 'pandas.core.series.Series'>\n",
      "Index: 74 entries, 2 to 624\n",
      "Series name: Target\n",
      "Non-Null Count  Dtype\n",
      "--------------  -----\n",
      "74 non-null     bool \n",
      "dtypes: bool(1)\n",
      "memory usage: 666.0 bytes\n",
      "None\n"
     ]
    }
   ],
   "source": [
    "import pandas as pd\n",
    "import numpy as np\n",
    "import matplotlib.pyplot as plt\n",
    "\n",
    "df_events= pd.read_csv('/Users/wassim/threejs-cd-preview/ressources/Dark_GD_Contest_Events.csv')\n",
    "df_edges= pd.read_csv('/Users/wassim/threejs-cd-preview/ressources/Dark_GD_Contest_Edges.csv')\n",
    "# print(df_events.head())\n",
    "# print(df_edges.info())\n",
    "\n",
    "# df_events[\"date\"] = df_events[\"date\"].dt.year\n",
    "\n",
    "\n",
    "df_events = df_events.dropna()\n",
    "df_events = df_events.drop_duplicates()\n",
    "df_edges.head()\n",
    "df_edges = df_edges.dropna()\n",
    "df_edges = df_edges.drop_duplicates()\n",
    "\n",
    "\n",
    "# entrypoints = df_edges [\"target\"].unique()\n",
    "\n",
    "source = df_edges[\"Source\"]\n",
    "target = df_edges[\"Target\"]\n",
    "\n",
    "\n",
    "\n",
    "print(prdecessors)\n",
    "print(prdecessors.info())\n",
    "\n",
    "\n",
    "\n",
    "\n",
    "\n",
    " \n"
   ]
  }
 ],
 "metadata": {
  "kernelspec": {
   "display_name": "Python 3",
   "language": "python",
   "name": "python3"
  },
  "language_info": {
   "codemirror_mode": {
    "name": "ipython",
    "version": 3
   },
   "file_extension": ".py",
   "mimetype": "text/x-python",
   "name": "python",
   "nbconvert_exporter": "python",
   "pygments_lexer": "ipython3",
   "version": "3.13.2"
  }
 },
 "nbformat": 4,
 "nbformat_minor": 5
}
