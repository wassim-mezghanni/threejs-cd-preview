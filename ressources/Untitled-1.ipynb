{
 "cells": [
  {
   "cell_type": "code",
   "execution_count": 1,
   "id": "e0116b4d",
   "metadata": {},
   "outputs": [
    {
     "name": "stdout",
     "output_type": "stream",
     "text": [
      "   Unnamed: 0  ID   World        Date  Important Trigger  Death  \\\n",
      "0         NaN   1  Origin  08-11-1971              False  False   \n",
      "1         NaN   2  Origin  08-11-1971              False  False   \n",
      "2         NaN   3  Origin  08-11-1971              False   True   \n",
      "3         NaN   4  Origin  21-06-1976              False  False   \n",
      "4         NaN   5  Origin  21-06-1976               True  False   \n",
      "\n",
      "                                         Description  \\\n",
      "0  Marek argue with his father H.G. Tannhaus beca...   \n",
      "1  Marek, Sonja and their daugther Charlotte leav...   \n",
      "2  Marek, Sonja and little charlotte die in a car...   \n",
      "3          Adult H.G. Tannhaus remembers his family.   \n",
      "4  He wants to create a time machine to undo it all.   \n",
      "\n",
      "                                          Characters  \n",
      "0                      Marek Tannhaus, H.G. Tannhaus  \n",
      "1  Marek Tannhaus, Sonja Tannhaus, Charlotte Tann...  \n",
      "2  Marek Tannhaus, Sonja Tannhaus, Charlotte Tann...  \n",
      "3                                      H.G. Tannhaus  \n",
      "4                                      H.G. Tannhaus  \n",
      "<class 'pandas.core.frame.DataFrame'>\n",
      "RangeIndex: 628 entries, 0 to 627\n",
      "Data columns (total 5 columns):\n",
      " #   Column       Non-Null Count  Dtype  \n",
      "---  ------       --------------  -----  \n",
      " 0   ID           628 non-null    int64  \n",
      " 1   Source       626 non-null    float64\n",
      " 2   Target       626 non-null    float64\n",
      " 3   Type         628 non-null    object \n",
      " 4   Description  78 non-null     object \n",
      "dtypes: float64(2), int64(1), object(2)\n",
      "memory usage: 24.7+ KB\n",
      "None\n"
     ]
    }
   ],
   "source": [
    "import pandas as pd\n",
    "import numpy as np\n",
    "import matplotlib.pyplot as plt\n",
    "\n",
    "df_events= pd.read_csv('/Users/wassim/threejs-cd-preview/ressources/Dark_GD_Contest_Events.csv')\n",
    "df_edges= pd.read_csv('/Users/wassim/threejs-cd-preview/ressources/Dark_GD_Contest_Edges.csv')\n",
    "print(df_events.head())\n",
    "print(df_edges.info())\n",
    "\n",
    "# df_events[\"date\"] = df_events[\"date\"].dt.year\n",
    "\n",
    "\n",
    "df_events = df_events.dropna()\n",
    "df_events = df_events.drop_duplicates()\n",
    "\n",
    "df_edges.head()\n",
    "df_edges = df_edges.dropna()\n",
    "df_edges = df_edges.drop_duplicates()\n",
    "\n",
    "\n",
    " \n"
   ]
  }
 ],
 "metadata": {
  "kernelspec": {
   "display_name": "Python 3",
   "language": "python",
   "name": "python3"
  },
  "language_info": {
   "codemirror_mode": {
    "name": "ipython",
    "version": 3
   },
   "file_extension": ".py",
   "mimetype": "text/x-python",
   "name": "python",
   "nbconvert_exporter": "python",
   "pygments_lexer": "ipython3",
   "version": "3.13.2"
  }
 },
 "nbformat": 4,
 "nbformat_minor": 5
}
